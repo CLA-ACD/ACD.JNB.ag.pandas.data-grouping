{
 "cells": [
  {
   "cell_type": "markdown",
   "metadata": {},
   "source": [
    "# Titanic"
   ]
  },
  {
   "cell_type": "markdown",
   "metadata": {},
   "source": [
    "### Importando las librerias necesarias."
   ]
  },
  {
   "cell_type": "code",
   "execution_count": null,
   "metadata": {},
   "outputs": [],
   "source": [
    "import pandas as pd\n",
    "import numpy as np\n",
    "import sys; sys.path.insert(0, '../../')\n",
    "from learntools.core import binder\n",
    "from learntools.core.exceptions import ExceptionRaised\n",
    "binder.bind(globals())\n",
    "from learntools.exercises.Titanic import *\n",
    "print('Setup complete.')"
   ]
  },
  {
   "cell_type": "markdown",
   "metadata": {},
   "source": [
    "### Utilice el dataframe df de acuerdo con las instrucciones dadas.\n",
    "No modifique el dataframe de manera directa."
   ]
  },
  {
   "cell_type": "code",
   "execution_count": null,
   "metadata": {},
   "outputs": [],
   "source": [
    "df = pd.read_csv(\"https://raw.githubusercontent.com/datasciencedojo/datasets/master/titanic.csv\", index_col=0)"
   ]
  },
  {
   "cell_type": "markdown",
   "metadata": {},
   "source": [
    "### 1. Agrupa los datos con base en la columna 'Age' y consulta la cantidad de pasajeros que hay según el valor de edad.\n",
    "Almacena el resultado en la variable p1\n",
    "\n",
    "Tipo de dato del resultado: 'Series'"
   ]
  },
  {
   "cell_type": "code",
   "execution_count": null,
   "metadata": {
    "scrolled": true
   },
   "outputs": [],
   "source": [
    "try:\n",
    "    # Escriba aquí el código necesario para resolver el ejercicio\n",
    "\n",
    "    p1 = _\n",
    "    \n",
    "    \n",
    "    \n",
    "    r1 = q1.check()\n",
    "except Exception as e:\n",
    "    print(\"Exception:\", e)\n",
    "    r1 = ExceptionRaised()"
   ]
  },
  {
   "cell_type": "markdown",
   "metadata": {},
   "source": [
    "### 2. Agrupa los datos con base en la columna 'Pclass' y consulta la menor edad de cada categoría de pasajero.\n",
    "Almacena el resultado en la variable p2\n",
    "\n",
    "Tipo de dato del resultado: 'Series'"
   ]
  },
  {
   "cell_type": "code",
   "execution_count": null,
   "metadata": {
    "scrolled": true
   },
   "outputs": [],
   "source": [
    "try:\n",
    "    # Escriba aquí el código necesario para resolver el ejercicio\n",
    "\n",
    "    p2 = _\n",
    "    \n",
    "    \n",
    "    \n",
    "    r2 = q2.check()\n",
    "except Exception as e:\n",
    "    print(\"Exception:\", e)\n",
    "    r2 = ExceptionRaised()"
   ]
  },
  {
   "cell_type": "markdown",
   "metadata": {},
   "source": [
    "### 3. Agrupa los datos con base en la columna 'Embarked' y consulta los valores de edad mínimos y máximos.\n",
    "Almacena el resultado en la variable p3\n",
    "\n",
    "Tipo de dato del resultado: 'DataFrame'"
   ]
  },
  {
   "cell_type": "code",
   "execution_count": null,
   "metadata": {},
   "outputs": [],
   "source": [
    "try:\n",
    "    # Escriba aquí el código necesario para resolver el ejercicio\n",
    "\n",
    "    p3 = _\n",
    "    \n",
    "    \n",
    "    \n",
    "    r3 = q3.check()\n",
    "except Exception as e:\n",
    "    print(\"Exception:\", e)\n",
    "    r3 = ExceptionRaised()"
   ]
  },
  {
   "cell_type": "markdown",
   "metadata": {},
   "source": [
    "### 4. Agrupando los datos con base en las columnas 'Pclass' y 'Sex', consulta las edades mínimas y máximas según el sexo y categoría de pasajero.\n",
    "Almacena el resultado en la variable p4\n",
    "\n",
    "Tipo de dato del resultado: 'DataFrame'"
   ]
  },
  {
   "cell_type": "code",
   "execution_count": null,
   "metadata": {},
   "outputs": [],
   "source": [
    "try:\n",
    "    # Escriba aquí el código necesario para resolver el ejercicio\n",
    "    \n",
    "    p4 = _\n",
    "    \n",
    "    \n",
    "    \n",
    "    r4 = q4.check()\n",
    "except Exception as e:\n",
    "    print(\"Exception:\", e)\n",
    "    r4 = ExceptionRaised()"
   ]
  },
  {
   "cell_type": "markdown",
   "metadata": {},
   "source": [
    "### 5. Ordena los datos del dataframe de acuerdo a la columna 'Age'.\n",
    "Almacena el resultado en la variable p5\n",
    "\n",
    "Tipo de dato del resultado: 'DataFrame'"
   ]
  },
  {
   "cell_type": "code",
   "execution_count": null,
   "metadata": {},
   "outputs": [],
   "source": [
    "try:\n",
    "    # Escriba aquí el código necesario para resolver el ejercicio\n",
    "\n",
    "    p5 = _\n",
    "    \n",
    "    \n",
    "    \n",
    "    r5 = q5.check()\n",
    "except Exception as e:\n",
    "    print(\"Exception:\", e)\n",
    "    r5 = ExceptionRaised()"
   ]
  },
  {
   "cell_type": "markdown",
   "metadata": {},
   "source": [
    "### 6. Ordena los datos del dataframe de acuerdo a las columnas 'Survived' y 'Pclass'.\n",
    "Almacena el resultado en la variable p6\n",
    "\n",
    "Tipo de dato del resultado: 'DataFrame'"
   ]
  },
  {
   "cell_type": "code",
   "execution_count": null,
   "metadata": {},
   "outputs": [],
   "source": [
    "try:\n",
    "    # Escriba aquí el código necesario para resolver el ejercicio\n",
    "\n",
    "    p6 = _\n",
    "    \n",
    "    \n",
    "    \n",
    "    r6 =  q6.check()\n",
    "except Exception as e:\n",
    "    print(\"Exception:\", e)\n",
    "    r6 = ExceptionRaised()"
   ]
  },
  {
   "cell_type": "markdown",
   "metadata": {},
   "source": [
    "### 7. Consulta el tipo de dato de la columna 'Name'.\n",
    "Almacena el resultado en la variable p7\n",
    "\n",
    "Tipo de dato del resultado: 'ObjectDType'"
   ]
  },
  {
   "cell_type": "code",
   "execution_count": null,
   "metadata": {},
   "outputs": [],
   "source": [
    "try:\n",
    "    # Escriba aquí el código necesario para resolver el ejercicio\n",
    "\n",
    "    p7 = _\n",
    "    \n",
    "    \n",
    "    \n",
    "    r7 = q7.check()\n",
    "except Exception as e:\n",
    "    print(\"Exception:\", e)\n",
    "    r7 = ExceptionRaised()"
   ]
  },
  {
   "cell_type": "markdown",
   "metadata": {},
   "source": [
    "### 8. Consulta el tipo de dato de cada columna.\n",
    "Almacena el resultado en la variable p8\n",
    "\n",
    "Tipo de dato del resultado: 'Series'"
   ]
  },
  {
   "cell_type": "code",
   "execution_count": null,
   "metadata": {},
   "outputs": [],
   "source": [
    "try:\n",
    "    # Escriba aquí el código necesario para resolver el ejercicio\n",
    "\n",
    "    p8 = _\n",
    "    \n",
    "    \n",
    "    \n",
    "    r8 = q8.check()\n",
    "except Exception as e:\n",
    "    print(\"Exception:\", e)\n",
    "    r8 = ExceptionRaised()"
   ]
  },
  {
   "cell_type": "markdown",
   "metadata": {},
   "source": [
    "### 9. Consulte todas las filas que contengan un valor faltante ('NaN') en la columna 'Cabin'\n",
    "Almacena el resultado en la variable p9\n",
    "\n",
    "Tipo de dato del resultado: 'DataFrame'"
   ]
  },
  {
   "cell_type": "code",
   "execution_count": null,
   "metadata": {},
   "outputs": [],
   "source": [
    "try:\n",
    "    # Escriba aquí el código necesario para resolver el ejercicio\n",
    "\n",
    "    p9 = _\n",
    "    \n",
    "    \n",
    "    \n",
    "    r9 = q9.check()\n",
    "except Exception as e:\n",
    "    print(\"Exception:\", e)\n",
    "    r9 = ExceptionRaised()"
   ]
  },
  {
   "cell_type": "markdown",
   "metadata": {},
   "source": [
    "### 10. Cambie el nombre de la columna 'Pclass' a 'PassengerClass'\n",
    "Almacena el resultado en la variable p10\n",
    "\n",
    "Tipo de dato del resultado: 'DataFrame'"
   ]
  },
  {
   "cell_type": "code",
   "execution_count": null,
   "metadata": {},
   "outputs": [],
   "source": [
    "try:\n",
    "    # Escriba aquí el código necesario para resolver el ejercicio\n",
    "\n",
    "    p10 = _\n",
    "    \n",
    "    \n",
    "    \n",
    "    r10 = q10.check()\n",
    "except Exception as e:\n",
    "    print(\"Exception:\", e)\n",
    "    r10 = ExceptionRaised()"
   ]
  },
  {
   "cell_type": "code",
   "execution_count": null,
   "metadata": {},
   "outputs": [],
   "source": [
    "__all__ = [r1, r2, r3, r4, r5, r6, r7, r8, r9, r10]"
   ]
  }
 ],
 "metadata": {
  "anaconda-cloud": {},
  "kernelspec": {
   "display_name": "Python 3 (ipykernel)",
   "language": "python",
   "name": "python3"
  },
  "language_info": {
   "codemirror_mode": {
    "name": "ipython",
    "version": 3
   },
   "file_extension": ".py",
   "mimetype": "text/x-python",
   "name": "python",
   "nbconvert_exporter": "python",
   "pygments_lexer": "ipython3",
   "version": "3.10.13"
  }
 },
 "nbformat": 4,
 "nbformat_minor": 1
}
